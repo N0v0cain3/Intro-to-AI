{
 "cells": [
  {
   "cell_type": "markdown",
   "metadata": {
    "collapsed": true,
    "pycharm": {
     "name": "#%% md\n"
    }
   },
   "source": [
    "# Pandas Library\n",
    "The Pandas library is built on NumPy and provides easy-to-use\n",
    "data structures and data analysis tools for the Python\n",
    "programming language.\n",
    "\n",
    "  The conventional way of importing the pandas library"
   ]
  },
  {
   "cell_type": "code",
   "execution_count": 135,
   "outputs": [],
   "source": [
    "import pandas as pd"
   ],
   "metadata": {
    "collapsed": false,
    "pycharm": {
     "name": "#%%\n"
    }
   }
  },
  {
   "cell_type": "markdown",
   "source": [
    "## Pandas Data Structures\n",
    "### Series\n",
    "A one-dimensional labeled array\n",
    "capable of holding any data type.\n",
    "index | list\n",
    "------|------\n",
    "a | 3\n",
    "b | -5\n",
    "c | 7\n",
    "d | 4"
   ],
   "metadata": {
    "collapsed": false,
    "pycharm": {
     "name": "#%% md\n"
    }
   }
  },
  {
   "cell_type": "code",
   "execution_count": 136,
   "outputs": [],
   "source": [
    "s = pd.Series([3, -5, 7, 4], index=['a', 'b', 'c', 'd'])"
   ],
   "metadata": {
    "collapsed": false,
    "pycharm": {
     "name": "#%%\n"
    }
   }
  },
  {
   "cell_type": "markdown",
   "source": [
    "### DataFrames\n",
    "A two-dimensional labeled\n",
    "data structure with columns\n",
    "of potentially different types.\n"
   ],
   "metadata": {
    "collapsed": false,
    "pycharm": {
     "name": "#%% md\n"
    }
   }
  },
  {
   "cell_type": "code",
   "execution_count": 137,
   "outputs": [
    {
     "data": {
      "text/plain": "    names  percent  average\n0  Miguel       90    70.80\n1   Armin       96    87.67\n2  Rossum       95    98.12",
      "text/html": "<div>\n<style scoped>\n    .dataframe tbody tr th:only-of-type {\n        vertical-align: middle;\n    }\n\n    .dataframe tbody tr th {\n        vertical-align: top;\n    }\n\n    .dataframe thead th {\n        text-align: right;\n    }\n</style>\n<table border=\"1\" class=\"dataframe\">\n  <thead>\n    <tr style=\"text-align: right;\">\n      <th></th>\n      <th>names</th>\n      <th>percent</th>\n      <th>average</th>\n    </tr>\n  </thead>\n  <tbody>\n    <tr>\n      <th>0</th>\n      <td>Miguel</td>\n      <td>90</td>\n      <td>70.80</td>\n    </tr>\n    <tr>\n      <th>1</th>\n      <td>Armin</td>\n      <td>96</td>\n      <td>87.67</td>\n    </tr>\n    <tr>\n      <th>2</th>\n      <td>Rossum</td>\n      <td>95</td>\n      <td>98.12</td>\n    </tr>\n  </tbody>\n</table>\n</div>"
     },
     "execution_count": 137,
     "metadata": {},
     "output_type": "execute_result"
    }
   ],
   "source": [
    "details = dict(names=[\"Miguel\", \"Armin\", \"Rossum\"],\n",
    "               percent=[90, 96, 95],\n",
    "               average=[70.8, 87.67, 98.12])\n",
    "df = pd.DataFrame(details,\n",
    "columns=['names', 'percent', 'average'])\n",
    "df"
   ],
   "metadata": {
    "collapsed": false,
    "pycharm": {
     "name": "#%%\n"
    }
   }
  },
  {
   "cell_type": "markdown",
   "source": [
    "## I/O\n",
    "### Read and Write to CSV, excel and other formats"
   ],
   "metadata": {
    "collapsed": false,
    "pycharm": {
     "name": "#%% md\n"
    }
   }
  },
  {
   "cell_type": "code",
   "execution_count": 138,
   "outputs": [],
   "source": [
    "# ## to write from csv\n",
    "# df.to_csv(\"dataframe.csv\")\n",
    "## to read from csv\n",
    "df = pd.read_csv(\"dataframe.csv\")\n",
    "\n",
    "\n",
    "\n",
    "# similarly read_excel() and to_excel()"
   ],
   "metadata": {
    "collapsed": false,
    "pycharm": {
     "name": "#%%\n"
    }
   }
  },
  {
   "cell_type": "markdown",
   "source": [
    "## Selection\n",
    "`Also Check Numpy Arrays`"
   ],
   "metadata": {
    "collapsed": false,
    "pycharm": {
     "name": "#%% md\n"
    }
   }
  },
  {
   "cell_type": "code",
   "execution_count": 139,
   "outputs": [
    {
     "name": "stdout",
     "output_type": "stream",
     "text": [
      "df[1:] =\n",
      "    Unnamed: 0   names  percent  average\n",
      "1           1   Armin       96    87.67\n",
      "2           2  Rossum       95    98.12 \n",
      "\n",
      "df.iloc[[1]] =\n",
      "    Unnamed: 0  names  percent  average\n",
      "1           1  Armin       96    87.67 \n",
      "\n",
      "df.loc[[0], ['percent']] =\n",
      "    percent\n",
      "0       90 \n",
      "\n"
     ]
    },
    {
     "data": {
      "text/plain": "    names  percent  average        skills\n0  Miguel       90    70.80        Python\n1   Armin       96    87.67  Rust, Python\n2  Rossum       95    98.12     C, Python",
      "text/html": "<div>\n<style scoped>\n    .dataframe tbody tr th:only-of-type {\n        vertical-align: middle;\n    }\n\n    .dataframe tbody tr th {\n        vertical-align: top;\n    }\n\n    .dataframe thead th {\n        text-align: right;\n    }\n</style>\n<table border=\"1\" class=\"dataframe\">\n  <thead>\n    <tr style=\"text-align: right;\">\n      <th></th>\n      <th>names</th>\n      <th>percent</th>\n      <th>average</th>\n      <th>skills</th>\n    </tr>\n  </thead>\n  <tbody>\n    <tr>\n      <th>0</th>\n      <td>Miguel</td>\n      <td>90</td>\n      <td>70.80</td>\n      <td>Python</td>\n    </tr>\n    <tr>\n      <th>1</th>\n      <td>Armin</td>\n      <td>96</td>\n      <td>87.67</td>\n      <td>Rust, Python</td>\n    </tr>\n    <tr>\n      <th>2</th>\n      <td>Rossum</td>\n      <td>95</td>\n      <td>98.12</td>\n      <td>C, Python</td>\n    </tr>\n  </tbody>\n</table>\n</div>"
     },
     "execution_count": 139,
     "metadata": {},
     "output_type": "execute_result"
    }
   ],
   "source": [
    "## GETTING\n",
    "\n",
    "# 1. Get subset of a DataFrame\n",
    "print(\"df[1:] =\\n\", df[1:],\"\\n\")\n",
    "\n",
    "# 2. Select a row\n",
    "print(\"df.iloc[[1]] =\\n\", df.iloc[[1]],\"\\n\")\n",
    "\n",
    "# 3. Select single value by row & column labels\n",
    "print(\"df.loc[[0], ['percent']] =\\n\", df.loc[[0], ['percent']], \"\\n\")\n",
    "\n",
    "## SETTING\n",
    "\n",
    "# 1. Setting a new Column\n",
    "df[\"skills\"] = [\"Python\", \"Rust, Python\", \"C, Python\"]\n",
    "df.drop(\"Unnamed: 0\",axis=1)"
   ],
   "metadata": {
    "collapsed": false,
    "pycharm": {
     "name": "#%%\n"
    }
   }
  },
  {
   "cell_type": "markdown",
   "source": [
    "### Axis parameter in Pandas\n",
    "Axis parameter is a very commonly used parameter in many functions of pandas.\n",
    "\n",
    "parameter | description\n",
    "---------|-------------\n",
    "`axis = 0`|depicts rows\n",
    "`axis = 1` |depicts columns"
   ],
   "metadata": {
    "collapsed": false,
    "pycharm": {
     "name": "#%% md\n"
    }
   }
  },
  {
   "cell_type": "markdown",
   "source": [
    "## Dropping Rows and Columns"
   ],
   "metadata": {
    "collapsed": false,
    "pycharm": {
     "name": "#%% md\n"
    }
   }
  },
  {
   "cell_type": "code",
   "execution_count": 140,
   "outputs": [
    {
     "data": {
      "text/plain": "    names  percent\n1   Armin       96\n2  Rossum       95",
      "text/html": "<div>\n<style scoped>\n    .dataframe tbody tr th:only-of-type {\n        vertical-align: middle;\n    }\n\n    .dataframe tbody tr th {\n        vertical-align: top;\n    }\n\n    .dataframe thead th {\n        text-align: right;\n    }\n</style>\n<table border=\"1\" class=\"dataframe\">\n  <thead>\n    <tr style=\"text-align: right;\">\n      <th></th>\n      <th>names</th>\n      <th>percent</th>\n    </tr>\n  </thead>\n  <tbody>\n    <tr>\n      <th>1</th>\n      <td>Armin</td>\n      <td>96</td>\n    </tr>\n    <tr>\n      <th>2</th>\n      <td>Rossum</td>\n      <td>95</td>\n    </tr>\n  </tbody>\n</table>\n</div>"
     },
     "execution_count": 140,
     "metadata": {},
     "output_type": "execute_result"
    }
   ],
   "source": [
    "data = pd.DataFrame(details,\n",
    "                    columns=['names', 'percent', 'average'])\n",
    "data = data.drop(0, axis=0) # drops specified row\n",
    "data = data.drop([\"average\"], axis=1, ) # drops specified column\n",
    "data"
   ],
   "metadata": {
    "collapsed": false,
    "pycharm": {
     "name": "#%%\n"
    }
   }
  },
  {
   "cell_type": "markdown",
   "source": [
    "## Filtering"
   ],
   "metadata": {
    "collapsed": false,
    "pycharm": {
     "name": "#%% md\n"
    }
   }
  },
  {
   "cell_type": "code",
   "execution_count": 141,
   "outputs": [
    {
     "data": {
      "text/plain": "    names\n0  Miguel\n2  Rossum",
      "text/html": "<div>\n<style scoped>\n    .dataframe tbody tr th:only-of-type {\n        vertical-align: middle;\n    }\n\n    .dataframe tbody tr th {\n        vertical-align: top;\n    }\n\n    .dataframe thead th {\n        text-align: right;\n    }\n</style>\n<table border=\"1\" class=\"dataframe\">\n  <thead>\n    <tr style=\"text-align: right;\">\n      <th></th>\n      <th>names</th>\n    </tr>\n  </thead>\n  <tbody>\n    <tr>\n      <th>0</th>\n      <td>Miguel</td>\n    </tr>\n    <tr>\n      <th>2</th>\n      <td>Rossum</td>\n    </tr>\n  </tbody>\n</table>\n</div>"
     },
     "execution_count": 141,
     "metadata": {},
     "output_type": "execute_result"
    }
   ],
   "source": [
    "dat = pd.DataFrame(details,\n",
    "                   columns=['names', 'percent', 'average'])\n",
    "dat = dat.filter([\"names\", \"skills\"], axis=1)# filter by column\n",
    "dat = dat.filter([0, 2], axis=0)# filter by row\n",
    "dat"
   ],
   "metadata": {
    "collapsed": false,
    "pycharm": {
     "name": "#%%\n"
    }
   }
  },
  {
   "cell_type": "markdown",
   "source": [
    "## Basic Information about a dataset"
   ],
   "metadata": {
    "collapsed": false
   }
  },
  {
   "cell_type": "code",
   "execution_count": 142,
   "outputs": [
    {
     "name": "stdout",
     "output_type": "stream",
     "text": [
      "Shape = (3, 4)\n",
      "\n",
      "Columns = Index(['Unnamed: 0', 'names', 'percent', 'average'], dtype='object')\n",
      "\n",
      "Count Info =\n",
      "Unnamed: 0    3\n",
      "names         3\n",
      "percent       3\n",
      "average       3\n",
      "dtype: int64\n",
      "\n",
      "Full info = \n",
      "<class 'pandas.core.frame.DataFrame'>\n",
      "RangeIndex: 3 entries, 0 to 2\n",
      "Data columns (total 4 columns):\n",
      " #   Column      Non-Null Count  Dtype  \n",
      "---  ------      --------------  -----  \n",
      " 0   Unnamed: 0  3 non-null      int64  \n",
      " 1   names       3 non-null      object \n",
      " 2   percent     3 non-null      int64  \n",
      " 3   average     3 non-null      float64\n",
      "dtypes: float64(1), int64(2), object(1)\n",
      "memory usage: 224.0+ bytes\n",
      "\n",
      "Summary(statistical details) = \n",
      "       Unnamed: 0    percent    average\n",
      "count         3.0   3.000000   3.000000\n",
      "mean          1.0  93.666667  85.530000\n",
      "std           1.0   3.214550  13.785148\n",
      "min           0.0  90.000000  70.800000\n",
      "25%           0.5  92.500000  79.235000\n",
      "50%           1.0  95.000000  87.670000\n",
      "75%           1.5  95.500000  92.895000\n",
      "max           2.0  96.000000  98.120000\n"
     ]
    }
   ],
   "source": [
    "df = pd.read_csv(\"dataframe.csv\")\n",
    "print(f\"Shape = {df.shape}\\n\")\n",
    "\n",
    "print(f\"Columns = {df.columns}\\n\")\n",
    "print(f\"Count Info =\\n{df.count()}\\n\")\n",
    "print(f\"Full info = \")\n",
    "df.info()\n",
    "print(\"\\nSummary(statistical details) = \")\n",
    "print(df.describe())"
   ],
   "metadata": {
    "collapsed": false,
    "pycharm": {
     "name": "#%%\n"
    }
   }
  },
  {
   "cell_type": "code",
   "execution_count": 142,
   "outputs": [],
   "source": [],
   "metadata": {
    "collapsed": false,
    "pycharm": {
     "name": "#%%\n"
    }
   }
  },
  {
   "cell_type": "code",
   "execution_count": 142,
   "outputs": [],
   "source": [
    "\n"
   ],
   "metadata": {
    "collapsed": false,
    "pycharm": {
     "name": "#%%\n"
    }
   }
  }
 ],
 "metadata": {
  "kernelspec": {
   "display_name": "Python 3",
   "language": "python",
   "name": "python3"
  },
  "language_info": {
   "codemirror_mode": {
    "name": "ipython",
    "version": 2
   },
   "file_extension": ".py",
   "mimetype": "text/x-python",
   "name": "python",
   "nbconvert_exporter": "python",
   "pygments_lexer": "ipython2",
   "version": "2.7.6"
  }
 },
 "nbformat": 4,
 "nbformat_minor": 0
}
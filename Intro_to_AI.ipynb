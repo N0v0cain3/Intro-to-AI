{
  "nbformat": 4,
  "nbformat_minor": 0,
  "metadata": {
    "kernelspec": {
      "display_name": "Python 3",
      "language": "python",
      "name": "python3"
    },
    "language_info": {
      "codemirror_mode": {
        "name": "ipython",
        "version": 3
      },
      "file_extension": ".py",
      "mimetype": "text/x-python",
      "name": "python",
      "nbconvert_exporter": "python",
      "pygments_lexer": "ipython3",
      "version": "3.6.6"
    },
    "toc": {
      "base_numbering": 1,
      "nav_menu": {},
      "number_sections": true,
      "sideBar": true,
      "skip_h1_title": false,
      "title_cell": "Table of Contents",
      "title_sidebar": "Contents",
      "toc_cell": false,
      "toc_position": {
        "height": "calc(100% - 180px)",
        "left": "10px",
        "top": "150px",
        "width": "230px"
      },
      "toc_section_display": true,
      "toc_window_display": true
    },
    "colab": {
      "name": "Intro to AI.ipynb",
      "provenance": []
    }
  },
  "cells": [
    {
      "cell_type": "markdown",
      "metadata": {
        "id": "_1mlPzt1ZPoX",
        "colab_type": "text"
      },
      "source": [
        "# Basics\n"
      ]
    },
    {
      "cell_type": "markdown",
      "metadata": {
        "id": "sUWiJ2TQZPoc",
        "colab_type": "text"
      },
      "source": [
        "## Lists[]\n",
        "**mutable, ordered sequence of elements.**\n",
        "- Mix of data types.\n",
        "- Are ordered - can lookup elements by index.\n",
        "- Are mutable - can be changed."
      ]
    },
    {
      "cell_type": "markdown",
      "metadata": {
        "id": "nOhmPpU5ZPof",
        "colab_type": "text"
      },
      "source": [
        "### List Comprehensions - (do.. for)"
      ]
    },
    {
      "cell_type": "code",
      "metadata": {
        "_kg_hide-output": true,
        "id": "Jf3u68-3ZPoi",
        "colab_type": "code",
        "colab": {},
        "outputId": "d1c5b167-940c-4ab2-9851-185ad6d6474d"
      },
      "source": [
        "names = ['dumbledore', 'beeblebrox', 'skywalker', 'hermione', 'leia']\n",
        "capitalized_names = []\n",
        "for name in names:\n",
        "    capitalized_names.append(name.title())\n",
        "\n",
        "# equals (do.. for)\n",
        "capitalized_names = [name.title() for name in names]\n",
        "capitalized_names"
      ],
      "execution_count": null,
      "outputs": [
        {
          "output_type": "execute_result",
          "data": {
            "text/plain": [
              "['Dumbledore', 'Beeblebrox', 'Skywalker', 'Hermione', 'Leia']"
            ]
          },
          "metadata": {
            "tags": []
          },
          "execution_count": 1
        }
      ]
    },
    {
      "cell_type": "markdown",
      "metadata": {
        "id": "Ogyf8lF1ZPo8",
        "colab_type": "text"
      },
      "source": [
        "### adding conditionals (do.. for.. if)"
      ]
    },
    {
      "cell_type": "code",
      "metadata": {
        "id": "9xbwuV4FZPo_",
        "colab_type": "code",
        "colab": {}
      },
      "source": [
        "squares = [x**2 for x in range(9) if x % 2 == 0]\n",
        "# to add else statements, move the conditionals to the beginning\n",
        "squares = [x**2 if x % 2 == 0 else x + 3 for x in range(9)]"
      ],
      "execution_count": null,
      "outputs": []
    },
    {
      "cell_type": "markdown",
      "metadata": {
        "id": "XQNw2_5tZPpN",
        "colab_type": "text"
      },
      "source": [
        "### examples"
      ]
    },
    {
      "cell_type": "code",
      "metadata": {
        "id": "CHmeGkm2ZPpP",
        "colab_type": "code",
        "colab": {},
        "outputId": "fb51ec4a-6b04-4790-ff5a-4da6a98216e8"
      },
      "source": [
        "# example\n",
        "names = [\"Rick S\", \"Morty Smith\", \"Summer Smith\", \"Jerry Smith\", \"Beth Smith\"]\n",
        "first_names = [name.split(' ')[0] for name in names]\n",
        "print(first_names)\n",
        "# ['Rick', 'Morty', 'Summer', 'Jerry', 'Beth']\n",
        "\n",
        "# example\n",
        "multiples_3 = [i*3 for i in range(1,21)]\n",
        "print(multiples_3)\n",
        "# [3, 6, 9, 12, 15, 18, 21, 24, 27, 30, 33, 36, 39, 42, 45, 48, 51, 54, 57, 60]\n",
        "\n",
        "# example\n",
        "scores = {\n",
        "             \"Rick\": 70,\n",
        "             \"Morty Smith\": 35,\n",
        "             \"Summer Smith\": 82,\n",
        "             \"Jerry Smith\": 23,\n",
        "             \"Beth Smith\": 98\n",
        "          }\n",
        "passed = [name for name, score in scores.items() if score>=65]\n",
        "print(passed)\n",
        "# ['Rick', 'Summer Smith', 'Beth Smith']"
      ],
      "execution_count": null,
      "outputs": [
        {
          "output_type": "stream",
          "text": [
            "['Rick', 'Morty', 'Summer', 'Jerry', 'Beth']\n",
            "[3, 6, 9, 12, 15, 18, 21, 24, 27, 30, 33, 36, 39, 42, 45, 48, 51, 54, 57, 60]\n",
            "['Rick', 'Summer Smith', 'Beth Smith']\n"
          ],
          "name": "stdout"
        }
      ]
    },
    {
      "cell_type": "markdown",
      "metadata": {
        "id": "ytlHOoLGZPpf",
        "colab_type": "text"
      },
      "source": [
        "### Lambda Functions"
      ]
    },
    {
      "cell_type": "code",
      "metadata": {
        "id": "CFcPBTMnZPpi",
        "colab_type": "code",
        "colab": {},
        "outputId": "aefef425-df09-4396-b22e-be636b492b0d"
      },
      "source": [
        "# Lambda Functions - lambda (arg1, arg2): do_a_thing_and_return_it\n",
        "multiply = lambda x, y: x * y\n",
        "\n",
        "# Equivalent of:\n",
        "def multiply(x, y):\n",
        "    return x * y\n",
        "\n",
        "# Can call both of the above like:\n",
        "multiply(4, 7)"
      ],
      "execution_count": null,
      "outputs": [
        {
          "output_type": "execute_result",
          "data": {
            "text/plain": [
              "28"
            ]
          },
          "metadata": {
            "tags": []
          },
          "execution_count": 4
        }
      ]
    },
    {
      "cell_type": "markdown",
      "metadata": {
        "id": "udsSi80LZPpv",
        "colab_type": "text"
      },
      "source": [
        "### map() - apply lambda function to a list"
      ]
    },
    {
      "cell_type": "code",
      "metadata": {
        "id": "oHhDslJ5ZPpx",
        "colab_type": "code",
        "colab": {},
        "outputId": "2bfc0d78-c829-4dc2-e97e-a1919c6992d2"
      },
      "source": [
        "# example of using map() to apply lambda function to a list\n",
        "numbers = [\n",
        "              [34, 63, 88, 71, 29],\n",
        "              [90, 78, 51, 27, 45],\n",
        "              [63, 37, 85, 46, 22],\n",
        "              [51, 22, 34, 11, 18]\n",
        "           ]\n",
        "mean = lambda num_list: sum(num_list)/len(num_list)\n",
        "averages = list(map(mean, numbers))\n",
        "# or\n",
        "averages = list(map(lambda num_list: sum(num_list)/len(num_list), numbers))\n",
        "print(averages)\n",
        "# [57.0, 58.2, 50.6, 27.2]"
      ],
      "execution_count": null,
      "outputs": [
        {
          "output_type": "stream",
          "text": [
            "[57.0, 58.2, 50.6, 27.2]\n"
          ],
          "name": "stdout"
        }
      ]
    },
    {
      "cell_type": "markdown",
      "metadata": {
        "id": "lW6tfgUqZPp8",
        "colab_type": "text"
      },
      "source": [
        "### filter() - apply lambda function to a list"
      ]
    },
    {
      "cell_type": "code",
      "metadata": {
        "id": "WCcutfGdZPqA",
        "colab_type": "code",
        "colab": {},
        "outputId": "f423a1f3-1f6e-4a18-eba6-72cf190c6fb2"
      },
      "source": [
        "# example of using filter() to apply lambda function to a list\n",
        "cities = [\"New York City\", \"Los Angeles\", \"Chicago\", \"Mountain View\", \"Denver\", \"Boston\"]\n",
        "is_short = lambda name: len(name) < 10\n",
        "short_cities = list(filter(is_short, cities))\n",
        "# or\n",
        "short_cities = list(filter(lambda name: len(name) < 10, cities))\n",
        "print(short_cities)"
      ],
      "execution_count": null,
      "outputs": [
        {
          "output_type": "stream",
          "text": [
            "['Chicago', 'Denver', 'Boston']\n"
          ],
          "name": "stdout"
        }
      ]
    },
    {
      "cell_type": "markdown",
      "metadata": {
        "id": "5KqEbFFAZPqL",
        "colab_type": "text"
      },
      "source": [
        "### Generators"
      ]
    },
    {
      "cell_type": "code",
      "metadata": {
        "id": "74TsWjmeZPqM",
        "colab_type": "code",
        "colab": {},
        "outputId": "46041f6e-76f4-4b5e-83af-ffd7df741a6b"
      },
      "source": [
        "# Generators\n",
        "def my_range(x):\n",
        "    i = 0\n",
        "    while i < x:\n",
        "        yield i\n",
        "        i += 1\n",
        "# since this returns an iterator, we can convert it to a list\n",
        "# or iterate through it in a loop to view its contents\n",
        "for x in my_range(5):\n",
        "    print(x)\n",
        "'''\n",
        "0\n",
        "1\n",
        "2\n",
        "3\n",
        "4\n",
        "'''\n",
        "\n",
        "# You can create a generator in the same way you'd normally write a list comprehension, except with\n",
        "# parentheses instead of square brackets.\n",
        "# this list comprehension produces a list of squares\n",
        "sq_list = [x**2 for x in range(10)]\n",
        "# this generator produces an iterator of squares\n",
        "sq_iterator = (x**2 for x in range(10))\n",
        "\n",
        "# example\n",
        "# generator function that works like the built-in function enumerate\n",
        "lessons = [\"Why Python Programming\", \"Data Types and Operators\", \"Control Flow\", \"Functions\", \"Scripting\"]\n",
        "def my_enumerate(iterable, start=0):\n",
        "    i = start\n",
        "    for element in iterable:\n",
        "        yield i, element\n",
        "        i = i + 1\n",
        "for i, lesson in my_enumerate(lessons, 1):\n",
        "    print(\"Lesson {}: {}\".format(i, lesson))\n",
        "'''\n",
        "Lesson 1: Why Python Programming\n",
        "Lesson 2: Data Types and Operators\n",
        "Lesson 3: Control Flow\n",
        "Lesson 4: Functions\n",
        "Lesson 5: Scripting\n",
        "'''\n",
        "\n",
        "# example\n",
        "# If you have an iterable that is too large to fit in memory in full\n",
        "# (e.g., when dealing with large files), being able to take and use\n",
        "# chunks of it at a time can be very valuable.\n",
        "# Implementing a generator function, chunker, that takes in an\n",
        "# iterable and yields a chunk of a specified size at a time.\n",
        "def chunker(iterable, size):\n",
        "    for i in range(0, len(iterable), size):\n",
        "        yield iterable[i:i + size]\n",
        "for chunk in chunker(range(25), 4):\n",
        "    print(list(chunk))"
      ],
      "execution_count": null,
      "outputs": [
        {
          "output_type": "stream",
          "text": [
            "0\n",
            "1\n",
            "2\n",
            "3\n",
            "4\n",
            "Lesson 1: Why Python Programming\n",
            "Lesson 2: Data Types and Operators\n",
            "Lesson 3: Control Flow\n",
            "Lesson 4: Functions\n",
            "Lesson 5: Scripting\n",
            "[0, 1, 2, 3]\n",
            "[4, 5, 6, 7]\n",
            "[8, 9, 10, 11]\n",
            "[12, 13, 14, 15]\n",
            "[16, 17, 18, 19]\n",
            "[20, 21, 22, 23]\n",
            "[24]\n"
          ],
          "name": "stdout"
        }
      ]
    },
    {
      "cell_type": "markdown",
      "metadata": {
        "id": "2M0UtRvCZPqU",
        "colab_type": "text"
      },
      "source": [
        "### create list"
      ]
    },
    {
      "cell_type": "code",
      "metadata": {
        "_kg_hide-output": false,
        "id": "9eST0Qb3ZPqV",
        "colab_type": "code",
        "colab": {}
      },
      "source": [
        "list_of_random_things = [1, 3.4, 'a string', True]"
      ],
      "execution_count": null,
      "outputs": []
    },
    {
      "cell_type": "markdown",
      "metadata": {
        "id": "X5NyVjOGZPqc",
        "colab_type": "text"
      },
      "source": [
        "### access list elements"
      ]
    },
    {
      "cell_type": "code",
      "metadata": {
        "_kg_hide-output": false,
        "id": "xCBTt2aQZPqd",
        "colab_type": "code",
        "colab": {}
      },
      "source": [
        "list_of_random_things[0];\n",
        "list_of_random_things[-1]; #last element\n",
        "list_of_random_things[len(list_of_random_things) - 1]; #last element"
      ],
      "execution_count": null,
      "outputs": []
    },
    {
      "cell_type": "markdown",
      "metadata": {
        "id": "KT87YjkWZPql",
        "colab_type": "text"
      },
      "source": [
        "### slicing [,)"
      ]
    },
    {
      "cell_type": "code",
      "metadata": {
        "_kg_hide-output": false,
        "id": "Pr8IfENjZPqn",
        "colab_type": "code",
        "colab": {},
        "outputId": "d7b1f42c-1ef3-4556-b467-7be814a1a289"
      },
      "source": [
        "list_of_random_things[1:3] # returns [3.4, 'a string']\n",
        "list_of_random_things[:2] # returns [1, 3.4]\n",
        "list_of_random_things[1:] # returns all of the elements to the end of the list [3.4, 'a string', True]"
      ],
      "execution_count": null,
      "outputs": [
        {
          "output_type": "execute_result",
          "data": {
            "text/plain": [
              "[3.4, 'a string', True]"
            ]
          },
          "metadata": {
            "tags": []
          },
          "execution_count": 10
        }
      ]
    },
    {
      "cell_type": "markdown",
      "metadata": {
        "id": "7hMGN4YQZPqv",
        "colab_type": "text"
      },
      "source": [
        "### in, not in"
      ]
    },
    {
      "cell_type": "code",
      "metadata": {
        "_kg_hide-output": false,
        "id": "08ZIhPb4ZPqw",
        "colab_type": "code",
        "colab": {},
        "outputId": "02a26b50-4e9e-4cc8-de03-3a27231846a5"
      },
      "source": [
        "# in, not in\n",
        "'this' in 'this is a string' # True\n",
        "'in' in 'this is a string' # True\n",
        "'isa' in 'this is a string' # False\n",
        "5 not in [1, 2, 3, 4, 6] # True\n",
        "5 in [1, 2, 3, 4, 6] # False"
      ],
      "execution_count": null,
      "outputs": [
        {
          "output_type": "execute_result",
          "data": {
            "text/plain": [
              "False"
            ]
          },
          "metadata": {
            "tags": []
          },
          "execution_count": 11
        }
      ]
    },
    {
      "cell_type": "markdown",
      "metadata": {
        "id": "Ft9R4lhgZPq2",
        "colab_type": "text"
      },
      "source": [
        "### Mutable and ordered"
      ]
    },
    {
      "cell_type": "code",
      "metadata": {
        "_kg_hide-output": false,
        "id": "ZwlZy_RiZPq3",
        "colab_type": "code",
        "colab": {},
        "outputId": "6078df63-15d0-4aae-ab89-873d0740bc07"
      },
      "source": [
        "# Mutable and ordered\n",
        "my_lst = [1, 2, 3, 4, 5]\n",
        "my_lst[0] = 0\n",
        "print(my_lst)"
      ],
      "execution_count": null,
      "outputs": [
        {
          "output_type": "stream",
          "text": [
            "[0, 2, 3, 4, 5]\n"
          ],
          "name": "stdout"
        }
      ]
    },
    {
      "cell_type": "markdown",
      "metadata": {
        "id": "BoGMF3eqZPq_",
        "colab_type": "text"
      },
      "source": [
        "### length of list"
      ]
    },
    {
      "cell_type": "code",
      "metadata": {
        "_kg_hide-output": false,
        "id": "8pz0_6M_ZPrA",
        "colab_type": "code",
        "colab": {},
        "outputId": "91496231-ea02-48ef-ce4f-d5bd468c58fb"
      },
      "source": [
        "# length of list\n",
        "len(list_of_random_things)"
      ],
      "execution_count": null,
      "outputs": [
        {
          "output_type": "execute_result",
          "data": {
            "text/plain": [
              "4"
            ]
          },
          "metadata": {
            "tags": []
          },
          "execution_count": 13
        }
      ]
    },
    {
      "cell_type": "markdown",
      "metadata": {
        "id": "_TEn-WBOZPrG",
        "colab_type": "text"
      },
      "source": [
        "### smallest and greatest element in list"
      ]
    },
    {
      "cell_type": "code",
      "metadata": {
        "_kg_hide-output": true,
        "id": "bfD8neNpZPrH",
        "colab_type": "code",
        "colab": {},
        "outputId": "1af17945-5004-46eb-ce0b-925895d6cad1"
      },
      "source": [
        "# returns the smallest element of the list\n",
        "min(list_of_random_things)\n",
        "\n",
        "# returns the greatest element of the list. This works because the the max function is defined in terms of the greater than comparison operator. The max function is undefined for lists that contain elements from different, incomparable types.\n",
        "max(list_of_random_things)"
      ],
      "execution_count": null,
      "outputs": [
        {
          "output_type": "error",
          "ename": "TypeError",
          "evalue": "'<' not supported between instances of 'str' and 'int'",
          "traceback": [
            "\u001b[0;31m---------------------------------------------------------------------------\u001b[0m",
            "\u001b[0;31mTypeError\u001b[0m                                 Traceback (most recent call last)",
            "\u001b[0;32m<ipython-input-14-d9d2704a9e40>\u001b[0m in \u001b[0;36m<module>\u001b[0;34m\u001b[0m\n\u001b[1;32m      1\u001b[0m \u001b[0;31m# returns the smallest element of the list\u001b[0m\u001b[0;34m\u001b[0m\u001b[0;34m\u001b[0m\u001b[0m\n\u001b[0;32m----> 2\u001b[0;31m \u001b[0mmin\u001b[0m\u001b[0;34m(\u001b[0m\u001b[0mlist_of_random_things\u001b[0m\u001b[0;34m)\u001b[0m\u001b[0;34m\u001b[0m\u001b[0m\n\u001b[0m\u001b[1;32m      3\u001b[0m \u001b[0;34m\u001b[0m\u001b[0m\n\u001b[1;32m      4\u001b[0m \u001b[0;31m# returns the greatest element of the list. This works because the the max function is defined in terms of the greater than comparison operator. The max function is undefined for lists that contain elements from different, incomparable types.\u001b[0m\u001b[0;34m\u001b[0m\u001b[0;34m\u001b[0m\u001b[0m\n\u001b[1;32m      5\u001b[0m \u001b[0mmax\u001b[0m\u001b[0;34m(\u001b[0m\u001b[0mlist_of_random_things\u001b[0m\u001b[0;34m)\u001b[0m\u001b[0;34m\u001b[0m\u001b[0m\n",
            "\u001b[0;31mTypeError\u001b[0m: '<' not supported between instances of 'str' and 'int'"
          ]
        }
      ]
    },
    {
      "cell_type": "markdown",
      "metadata": {
        "id": "H9wPAWJOZPrN",
        "colab_type": "text"
      },
      "source": [
        "### sort list"
      ]
    },
    {
      "cell_type": "code",
      "metadata": {
        "_kg_hide-output": true,
        "id": "4rSBjVSkZPrN",
        "colab_type": "code",
        "colab": {},
        "outputId": "387f6cfa-fa8b-49da-987b-011217ae2ec7"
      },
      "source": [
        "# returns a copy of a list in order from smallest to largest,\n",
        "# leaving the list unchanged.\n",
        "sorted(list_of_random_things)"
      ],
      "execution_count": null,
      "outputs": [
        {
          "output_type": "error",
          "ename": "TypeError",
          "evalue": "'<' not supported between instances of 'str' and 'float'",
          "traceback": [
            "\u001b[0;31m---------------------------------------------------------------------------\u001b[0m",
            "\u001b[0;31mTypeError\u001b[0m                                 Traceback (most recent call last)",
            "\u001b[0;32m<ipython-input-15-beee6b74f9d2>\u001b[0m in \u001b[0;36m<module>\u001b[0;34m\u001b[0m\n\u001b[1;32m      1\u001b[0m \u001b[0;31m# returns a copy of a list in order from smallest to largest,\u001b[0m\u001b[0;34m\u001b[0m\u001b[0;34m\u001b[0m\u001b[0m\n\u001b[1;32m      2\u001b[0m \u001b[0;31m# leaving the list unchanged.\u001b[0m\u001b[0;34m\u001b[0m\u001b[0;34m\u001b[0m\u001b[0m\n\u001b[0;32m----> 3\u001b[0;31m \u001b[0msorted\u001b[0m\u001b[0;34m(\u001b[0m\u001b[0mlist_of_random_things\u001b[0m\u001b[0;34m)\u001b[0m\u001b[0;34m\u001b[0m\u001b[0m\n\u001b[0m",
            "\u001b[0;31mTypeError\u001b[0m: '<' not supported between instances of 'str' and 'float'"
          ]
        }
      ]
    },
    {
      "cell_type": "markdown",
      "metadata": {
        "id": "jVxeOETgZPrR",
        "colab_type": "text"
      },
      "source": [
        "### join()"
      ]
    },
    {
      "cell_type": "code",
      "metadata": {
        "_kg_hide-output": false,
        "id": "sf5jsTdaZPrS",
        "colab_type": "code",
        "colab": {},
        "outputId": "399b7061-fca1-440d-b69b-2fad59235be8"
      },
      "source": [
        "# join() returns a string consisting of the list elements joined by a separator string.\n",
        "# Takes only a list of strings as an argument\n",
        "name = \"-\".join([\"Grace\", \"Kelly\"])\n",
        "print(name) # Grace-Kelly"
      ],
      "execution_count": null,
      "outputs": [
        {
          "output_type": "stream",
          "text": [
            "Grace-Kelly\n"
          ],
          "name": "stdout"
        }
      ]
    },
    {
      "cell_type": "markdown",
      "metadata": {
        "id": "ITD9YfhQZPrV",
        "colab_type": "text"
      },
      "source": [
        "### Creating a new list"
      ]
    },
    {
      "cell_type": "code",
      "metadata": {
        "_kg_hide-output": false,
        "id": "mbDFJ91LZPrW",
        "colab_type": "code",
        "colab": {}
      },
      "source": [
        "cities = ['new york city', 'mountain view', 'chicago', 'los angeles']\n",
        "capitalized_cities = []\n",
        "for city in cities:\n",
        "    capitalized_cities.append(city.title())"
      ],
      "execution_count": null,
      "outputs": []
    },
    {
      "cell_type": "markdown",
      "metadata": {
        "id": "CN38Up7wZPra",
        "colab_type": "text"
      },
      "source": [
        "### Adding an element to the end of a list - append()"
      ]
    },
    {
      "cell_type": "code",
      "metadata": {
        "_kg_hide-output": false,
        "id": "63vICud4ZPrb",
        "colab_type": "code",
        "colab": {},
        "outputId": "a4b24d5c-cedf-4ad2-b494-7ce572e21dc0"
      },
      "source": [
        "letters = ['a', 'b', 'c', 'd']\n",
        "letters.append('z')\n",
        "print(letters) # ['a', 'b', 'c', 'd', 'z']\n",
        "# Note: letters[i] = 'z'; wouldn't work, use append()"
      ],
      "execution_count": null,
      "outputs": [
        {
          "output_type": "stream",
          "text": [
            "['a', 'b', 'c', 'd', 'z']\n"
          ],
          "name": "stdout"
        }
      ]
    },
    {
      "cell_type": "markdown",
      "metadata": {
        "id": "g9sYvSC8ZPre",
        "colab_type": "text"
      },
      "source": [
        "### Modifying a new list"
      ]
    },
    {
      "cell_type": "code",
      "metadata": {
        "_kg_hide-output": false,
        "id": "Q-9vPbXXZPre",
        "colab_type": "code",
        "colab": {}
      },
      "source": [
        "cities = ['new york city', 'mountain view', 'chicago', 'los angeles']\n",
        "for index in range(len(cities)):\n",
        "    cities[index] = cities[index].title()"
      ],
      "execution_count": null,
      "outputs": []
    },
    {
      "cell_type": "markdown",
      "metadata": {
        "id": "_Jv91EzTZPrh",
        "colab_type": "text"
      },
      "source": [
        "### Print a formatted string from parameters in list"
      ]
    },
    {
      "cell_type": "code",
      "metadata": {
        "_kg_hide-output": false,
        "id": "KLpyraC-ZPrh",
        "colab_type": "code",
        "colab": {},
        "outputId": "aa468201-0319-4898-f716-5a44ec8b6dc6"
      },
      "source": [
        "items = ['first string', 'second string']\n",
        "html_str = \"<ul>\\n\"\n",
        "for item in items:\n",
        "    html_str += \"<li>{}</li>\\n\".format(item)\n",
        "html_str += \"</ul>\"\n",
        "print(html_str)"
      ],
      "execution_count": null,
      "outputs": [
        {
          "output_type": "stream",
          "text": [
            "<ul>\n",
            "<li>first string</li>\n",
            "<li>second string</li>\n",
            "</ul>\n"
          ],
          "name": "stdout"
        }
      ]
    },
    {
      "cell_type": "markdown",
      "metadata": {
        "id": "o7-TysZ3ZPrj",
        "colab_type": "text"
      },
      "source": [
        "### Convert an iterable (tuple, string, set, dictionary) to a list - list()"
      ]
    },
    {
      "cell_type": "code",
      "metadata": {
        "_kg_hide-output": false,
        "id": "nAK4XoHNZPrl",
        "colab_type": "code",
        "colab": {},
        "outputId": "0e23380e-f61f-4978-d622-d999fd9c4d80"
      },
      "source": [
        "# vowel string\n",
        "vowelString = 'aeiou'\n",
        "print(list(vowelString))\n",
        "\n",
        "# vowel tuple\n",
        "vowelTuple = ('a', 'e', 'i', 'o', 'u')\n",
        "print(list(vowelTuple))\n",
        "\n",
        "# vowel list\n",
        "vowelList = ['a', 'e', 'i', 'o', 'u']\n",
        "print(list(vowelList))\n",
        "\n",
        "# All Print: ['a', 'e', 'i', 'o', 'u']"
      ],
      "execution_count": null,
      "outputs": [
        {
          "output_type": "stream",
          "text": [
            "['a', 'e', 'i', 'o', 'u']\n",
            "['a', 'e', 'i', 'o', 'u']\n",
            "['a', 'e', 'i', 'o', 'u']\n"
          ],
          "name": "stdout"
        }
      ]
    },
    {
      "cell_type": "markdown",
      "metadata": {
        "id": "aSMl5rimZPro",
        "colab_type": "text"
      },
      "source": [
        "## Tuples()\n",
        "**immutable ordered sequences of elements.**\n",
        "- They are often used to store related pieces of information. The parentheses are optional when defining tuples.\n",
        "- Are ordered - can lookup elements by index.\n",
        "- Are immutable - can not be changed. You can't add and remove items from tuples, or sort them in place."
      ]
    },
    {
      "cell_type": "markdown",
      "metadata": {
        "id": "p7xIczzlZPro",
        "colab_type": "text"
      },
      "source": [
        "### create tuple"
      ]
    },
    {
      "cell_type": "code",
      "metadata": {
        "_kg_hide-output": false,
        "id": "mkWlaP2zZPrp",
        "colab_type": "code",
        "colab": {}
      },
      "source": [
        "location = (13.4125, 103.866667)"
      ],
      "execution_count": null,
      "outputs": []
    },
    {
      "cell_type": "markdown",
      "metadata": {
        "id": "Y_9a3WG3ZPrr",
        "colab_type": "text"
      },
      "source": [
        "### access tuple"
      ]
    },
    {
      "cell_type": "code",
      "metadata": {
        "_kg_hide-output": false,
        "id": "wwQ6b0BVZPrs",
        "colab_type": "code",
        "colab": {},
        "outputId": "a1011dd4-db6f-42a7-b509-5fd5a7fe704d"
      },
      "source": [
        "print(\"Latitude:\", location[0])\n",
        "print(\"Longitude:\", location[1])"
      ],
      "execution_count": null,
      "outputs": [
        {
          "output_type": "stream",
          "text": [
            "Latitude: 13.4125\n",
            "Longitude: 103.866667\n"
          ],
          "name": "stdout"
        }
      ]
    },
    {
      "cell_type": "markdown",
      "metadata": {
        "id": "NJtRVywTZPru",
        "colab_type": "text"
      },
      "source": [
        "### tuple packing"
      ]
    },
    {
      "cell_type": "code",
      "metadata": {
        "_kg_hide-output": false,
        "id": "gzmbam4ZZPrw",
        "colab_type": "code",
        "colab": {}
      },
      "source": [
        "# can also be used to assign multiple variables in a compact way\n",
        "dimensions = 52, 40, 100"
      ],
      "execution_count": null,
      "outputs": []
    },
    {
      "cell_type": "markdown",
      "metadata": {
        "id": "CfIQQpz1ZPr0",
        "colab_type": "text"
      },
      "source": [
        "### tuple unpacking"
      ]
    },
    {
      "cell_type": "code",
      "metadata": {
        "_kg_hide-output": false,
        "id": "t4GIhqJxZPr0",
        "colab_type": "code",
        "colab": {},
        "outputId": "45193ef1-e8e1-49da-995c-837c5b283fe5"
      },
      "source": [
        "# tuple unpacking\n",
        "length, width, height = dimensions\n",
        "print(\"The dimensions are {} x {} x {}\".format(length, width, height))"
      ],
      "execution_count": null,
      "outputs": [
        {
          "output_type": "stream",
          "text": [
            "The dimensions are 52 x 40 x 100\n"
          ],
          "name": "stdout"
        }
      ]
    },
    {
      "cell_type": "markdown",
      "metadata": {
        "id": "6EWMTrr4ZPr3",
        "colab_type": "text"
      },
      "source": [
        "## Sets{}\n",
        "**mutable, unordered collections of unique elements.**\n",
        "- Are unordered - can not lookup elements by index.\n",
        "- Are mutable - can be changed.\n",
        "- Sets support the **in** operator the same as lists do.\n",
        "- One application of a set is to quickly remove duplicates from a list.\n",
        "- You cannot have the same item twice and you cannot sort sets. For these two properties a list would be more appropriate.\n",
        "- You can add elements to sets using the **add()** method, and remove elements using the **pop()** method, similar to lists. Although, when you pop an element from a set, a random element is removed. Remember that sets, unlike lists, are unordered so there is no \"last element\".\n",
        "- Other operations you can perform with sets include those of mathematical sets. Methods like union, intersection, and difference are easy to perform with sets, and are much faster than such operators with other containers."
      ]
    },
    {
      "cell_type": "markdown",
      "metadata": {
        "id": "3RJ-ulyBZPr3",
        "colab_type": "text"
      },
      "source": [
        "### create sets"
      ]
    },
    {
      "cell_type": "code",
      "metadata": {
        "_kg_hide-output": false,
        "id": "NcxtgnrZZPr3",
        "colab_type": "code",
        "colab": {},
        "outputId": "f634ab30-c563-435e-cb23-4d4fc8ebad07"
      },
      "source": [
        "numbers = [1, 2, 6, 3, 1, 1, 6]\n",
        "unique_nums = set(numbers)\n",
        "print(unique_nums) # {1, 2, 3, 6}"
      ],
      "execution_count": null,
      "outputs": [
        {
          "output_type": "stream",
          "text": [
            "{1, 2, 3, 6}\n"
          ],
          "name": "stdout"
        }
      ]
    },
    {
      "cell_type": "code",
      "metadata": {
        "_kg_hide-output": true,
        "id": "YlcrMLlbZPr5",
        "colab_type": "code",
        "colab": {}
      },
      "source": [
        "fruit = {\"apple\", \"banana\", \"orange\", \"grapefruit\"}"
      ],
      "execution_count": null,
      "outputs": []
    },
    {
      "cell_type": "markdown",
      "metadata": {
        "id": "ohUcEAAdZPr8",
        "colab_type": "text"
      },
      "source": [
        "### check for element"
      ]
    },
    {
      "cell_type": "code",
      "metadata": {
        "_kg_hide-output": false,
        "id": "V1ewlyfzZPr8",
        "colab_type": "code",
        "colab": {},
        "outputId": "c08b2eed-cc81-4cc5-92ab-5398093fc046"
      },
      "source": [
        "print(\"watermelon\" in fruit)"
      ],
      "execution_count": null,
      "outputs": [
        {
          "output_type": "stream",
          "text": [
            "False\n"
          ],
          "name": "stdout"
        }
      ]
    },
    {
      "cell_type": "markdown",
      "metadata": {
        "id": "VTJWGANkZPr-",
        "colab_type": "text"
      },
      "source": [
        "### add an element"
      ]
    },
    {
      "cell_type": "code",
      "metadata": {
        "_kg_hide-output": false,
        "id": "ArmIVCdaZPr_",
        "colab_type": "code",
        "colab": {},
        "outputId": "f37ea2d9-980e-4d35-f641-c36af008a9ae"
      },
      "source": [
        "fruit.add(\"watermelon\")\n",
        "print(fruit)"
      ],
      "execution_count": null,
      "outputs": [
        {
          "output_type": "stream",
          "text": [
            "{'apple', 'grapefruit', 'orange', 'watermelon', 'banana'}\n"
          ],
          "name": "stdout"
        }
      ]
    },
    {
      "cell_type": "markdown",
      "metadata": {
        "id": "LefpH6LTZPsB",
        "colab_type": "text"
      },
      "source": [
        "### remove a random element"
      ]
    },
    {
      "cell_type": "code",
      "metadata": {
        "_kg_hide-output": false,
        "id": "Gmu0nxNNZPsB",
        "colab_type": "code",
        "colab": {},
        "outputId": "5edc35f3-6e95-4b2e-8545-5df8f5e44c9e"
      },
      "source": [
        "print(fruit.pop())\n",
        "print(fruit)"
      ],
      "execution_count": null,
      "outputs": [
        {
          "output_type": "stream",
          "text": [
            "apple\n",
            "{'grapefruit', 'orange', 'watermelon', 'banana'}\n"
          ],
          "name": "stdout"
        }
      ]
    },
    {
      "cell_type": "markdown",
      "metadata": {
        "id": "sy6WtNpKZPsD",
        "colab_type": "text"
      },
      "source": [
        "## Dicts{}\n",
        "**mutable data type that stores mappings of unique keys to values.**\n",
        "- Are ordered - can lookup elements by key.\n",
        "- Are mutable - can be changed.\n",
        "- Dictionaries can have *keys of any immutable type*, like integers or tuples, not just strings. It's not even necessary for every key to have the same type!\n",
        "- We can look up values or insert new values in the dictionary using square brackets that enclose the key."
      ]
    },
    {
      "cell_type": "markdown",
      "metadata": {
        "id": "7OrpXumcZPsD",
        "colab_type": "text"
      },
      "source": [
        "### create dict"
      ]
    },
    {
      "cell_type": "code",
      "metadata": {
        "_kg_hide-output": false,
        "id": "PHCFoDLzZPsD",
        "colab_type": "code",
        "colab": {}
      },
      "source": [
        "elements = {\"hydrogen\": 1, \"helium\": 2, \"carbon\": 6}"
      ],
      "execution_count": null,
      "outputs": []
    },
    {
      "cell_type": "markdown",
      "metadata": {
        "id": "AljD9ysGZPsF",
        "colab_type": "text"
      },
      "source": [
        "### accessing an element's value"
      ]
    },
    {
      "cell_type": "code",
      "metadata": {
        "_kg_hide-output": false,
        "id": "FWZuyLr2ZPsF",
        "colab_type": "code",
        "colab": {},
        "outputId": "10612ecb-fd0d-4a67-ceda-a872d4ab6796"
      },
      "source": [
        "print(elements[\"helium\"])"
      ],
      "execution_count": null,
      "outputs": [
        {
          "output_type": "stream",
          "text": [
            "2\n"
          ],
          "name": "stdout"
        }
      ]
    },
    {
      "cell_type": "markdown",
      "metadata": {
        "id": "LGYc1e1eZPsH",
        "colab_type": "text"
      },
      "source": [
        "### adding elements"
      ]
    },
    {
      "cell_type": "code",
      "metadata": {
        "_kg_hide-output": false,
        "id": "kro8FWxjZPsH",
        "colab_type": "code",
        "colab": {}
      },
      "source": [
        "elements[\"lithium\"] = 3 "
      ],
      "execution_count": null,
      "outputs": []
    },
    {
      "cell_type": "markdown",
      "metadata": {
        "id": "aYJA2nksZPsK",
        "colab_type": "text"
      },
      "source": [
        "### Iterating through a dictionary"
      ]
    },
    {
      "cell_type": "code",
      "metadata": {
        "_kg_hide-output": true,
        "id": "gDfHXzEFZPsL",
        "colab_type": "code",
        "colab": {},
        "outputId": "c28238a3-0d63-436b-bb88-320b88e669cc"
      },
      "source": [
        "# Just keys\n",
        "for key in cast:\n",
        "    print(key)\n",
        "# Keys and values\n",
        "for key, value in cast.items():\n",
        "    print(\"Actor: {}    Role: {}\".format(key, value))"
      ],
      "execution_count": null,
      "outputs": [
        {
          "output_type": "error",
          "ename": "NameError",
          "evalue": "name 'cast' is not defined",
          "traceback": [
            "\u001b[0;31m---------------------------------------------------------------------------\u001b[0m",
            "\u001b[0;31mNameError\u001b[0m                                 Traceback (most recent call last)",
            "\u001b[0;32m<ipython-input-34-7a526a0e7c66>\u001b[0m in \u001b[0;36m<module>\u001b[0;34m\u001b[0m\n\u001b[1;32m      1\u001b[0m \u001b[0;31m# Just keys\u001b[0m\u001b[0;34m\u001b[0m\u001b[0;34m\u001b[0m\u001b[0m\n\u001b[0;32m----> 2\u001b[0;31m \u001b[0;32mfor\u001b[0m \u001b[0mkey\u001b[0m \u001b[0;32min\u001b[0m \u001b[0mcast\u001b[0m\u001b[0;34m:\u001b[0m\u001b[0;34m\u001b[0m\u001b[0m\n\u001b[0m\u001b[1;32m      3\u001b[0m     \u001b[0mprint\u001b[0m\u001b[0;34m(\u001b[0m\u001b[0mkey\u001b[0m\u001b[0;34m)\u001b[0m\u001b[0;34m\u001b[0m\u001b[0m\n\u001b[1;32m      4\u001b[0m \u001b[0;31m# Keys and values\u001b[0m\u001b[0;34m\u001b[0m\u001b[0;34m\u001b[0m\u001b[0m\n\u001b[1;32m      5\u001b[0m \u001b[0;32mfor\u001b[0m \u001b[0mkey\u001b[0m\u001b[0;34m,\u001b[0m \u001b[0mvalue\u001b[0m \u001b[0;32min\u001b[0m \u001b[0mcast\u001b[0m\u001b[0;34m.\u001b[0m\u001b[0mitems\u001b[0m\u001b[0;34m(\u001b[0m\u001b[0;34m)\u001b[0m\u001b[0;34m:\u001b[0m\u001b[0;34m\u001b[0m\u001b[0m\n",
            "\u001b[0;31mNameError\u001b[0m: name 'cast' is not defined"
          ]
        }
      ]
    },
    {
      "cell_type": "markdown",
      "metadata": {
        "id": "BEd5TfM4ZPsP",
        "colab_type": "text"
      },
      "source": [
        "### check whether a value is in a dictionary"
      ]
    },
    {
      "cell_type": "code",
      "metadata": {
        "_kg_hide-output": false,
        "id": "qO586d3sZPsQ",
        "colab_type": "code",
        "colab": {},
        "outputId": "ce9b5284-0d19-4c22-b88b-a4b255cc9a5c"
      },
      "source": [
        "# check whether a value is in a dictionary, the same way we check whether a value is in a list or set with the in keyword.\n",
        "print(\"carbon\" in elements) # True"
      ],
      "execution_count": null,
      "outputs": [
        {
          "output_type": "stream",
          "text": [
            "True\n"
          ],
          "name": "stdout"
        }
      ]
    },
    {
      "cell_type": "markdown",
      "metadata": {
        "id": "vp1VRb8ZZPsS",
        "colab_type": "text"
      },
      "source": [
        "### get() looks up values in a dictionary"
      ]
    },
    {
      "cell_type": "code",
      "metadata": {
        "_kg_hide-output": false,
        "id": "UH75jUIyZPsT",
        "colab_type": "code",
        "colab": {},
        "outputId": "1a32de4c-a5af-4504-c4a9-91ab8726b39c"
      },
      "source": [
        "# get() looks up values in a dictionary, but unlike square brackets, get returns None (or a default value of your choice) if the key isn't found.\n",
        "# If you expect lookups to sometimes fail, get might be a better tool than normal square bracket lookups.\n",
        "print(elements.get(\"dilithium\")) # None\n",
        "print(elements.get('kryptonite', 'There\\'s no such element!'))\n",
        "# \"There's no such element!\""
      ],
      "execution_count": null,
      "outputs": [
        {
          "output_type": "stream",
          "text": [
            "None\n",
            "There's no such element!\n"
          ],
          "name": "stdout"
        }
      ]
    },
    {
      "cell_type": "markdown",
      "metadata": {
        "id": "3EBx9KEDZPsV",
        "colab_type": "text"
      },
      "source": [
        "### Identity Operators"
      ]
    },
    {
      "cell_type": "code",
      "metadata": {
        "_kg_hide-output": false,
        "id": "wPXIdZsLZPsW",
        "colab_type": "code",
        "colab": {},
        "outputId": "6b0dd040-0d54-470b-cf13-6393eac02b1a"
      },
      "source": [
        "n = elements.get(\"dilithium\")\n",
        "print(n is None) # True\n",
        "print(n is not None) # False"
      ],
      "execution_count": null,
      "outputs": [
        {
          "output_type": "stream",
          "text": [
            "True\n",
            "False\n"
          ],
          "name": "stdout"
        }
      ]
    },
    {
      "cell_type": "markdown",
      "metadata": {
        "id": "xy9xrIdlZPsY",
        "colab_type": "text"
      },
      "source": [
        "### Equality (==) and identity (is)"
      ]
    },
    {
      "cell_type": "code",
      "metadata": {
        "_kg_hide-output": false,
        "id": "JpcufiAxZPsY",
        "colab_type": "code",
        "colab": {},
        "outputId": "9938d977-a424-4e48-956f-a795ee31c870"
      },
      "source": [
        "a = [1, 2, 3]\n",
        "b = a\n",
        "c = [1, 2, 3]\n",
        "print(a == b) # True\n",
        "print(a is b) # True\n",
        "print(a == c) # True\n",
        "print(a is c) # False\n",
        "# List a and list b are equal and identical.\n",
        "# List c is equal to a (and b for that matter) since they have the same contents. But a and c (and b for that matter, again) point to two different objects, i.e., they aren't identical objects.\n",
        "# That is the difference between checking for equality vs. identity."
      ],
      "execution_count": null,
      "outputs": [
        {
          "output_type": "stream",
          "text": [
            "True\n",
            "True\n",
            "True\n",
            "False\n"
          ],
          "name": "stdout"
        }
      ]
    },
    {
      "cell_type": "markdown",
      "metadata": {
        "id": "7HklapmhZPsc",
        "colab_type": "text"
      },
      "source": [
        "### Compound Data Structures"
      ]
    },
    {
      "cell_type": "code",
      "metadata": {
        "_kg_hide-output": false,
        "id": "swWe7YA1ZPsc",
        "colab_type": "code",
        "colab": {},
        "outputId": "a535bd53-7a70-4ba8-a051-0a238d6fde4a"
      },
      "source": [
        "elements = {\"hydrogen\": {\"number\": 1,\n",
        "                         \"weight\": 1.00794,\n",
        "                         \"symbol\": \"H\"},\n",
        "              \"helium\": {\"number\": 2,\n",
        "                         \"weight\": 4.002602,\n",
        "                         \"symbol\": \"He\"}}\n",
        "helium = elements[\"helium\"]  # get the helium dictionary\n",
        "hydrogen_weight = elements[\"hydrogen\"][\"weight\"]  # get hydrogen's weight\n",
        "oxygen = {\"number\":8,\"weight\":15.999,\"symbol\":\"O\"}  # create a new oxygen dictionary \n",
        "elements[\"oxygen\"] = oxygen  # assign 'oxygen' as a key to the elements dictionary\n",
        "print('elements = ', elements)"
      ],
      "execution_count": null,
      "outputs": [
        {
          "output_type": "stream",
          "text": [
            "elements =  {'hydrogen': {'number': 1, 'weight': 1.00794, 'symbol': 'H'}, 'helium': {'number': 2, 'weight': 4.002602, 'symbol': 'He'}, 'oxygen': {'number': 8, 'weight': 15.999, 'symbol': 'O'}}\n"
          ],
          "name": "stdout"
        }
      ]
    },
    {
      "cell_type": "markdown",
      "metadata": {
        "id": "ISt5pJc3ZPsg",
        "colab_type": "text"
      },
      "source": [
        "### Dict frequency counter"
      ]
    },
    {
      "cell_type": "code",
      "metadata": {
        "_kg_hide-output": false,
        "id": "aw4JWQF3ZPsh",
        "colab_type": "code",
        "colab": {},
        "outputId": "afe1460e-00a2-4fe5-89cb-5e171f398771"
      },
      "source": [
        "words =  ['great', 'expectations','the', 'adventures', 'of', 'sherlock','holmes','the','great','gasby','hamlet','adventures','of','huckleberry','fin'];\n",
        "word_counter = {}\n",
        "for word in words:\n",
        "    word_counter[word] = word_counter.get(word,0)+1;\n",
        "print(word_counter);\n",
        "# Prints {'fin': 1, 'huckleberry': 1, 'hamlet': 1, 'holmes': 1, 'adventures': 2, 'sherlock': 1, 'expectations': 1, 'great': 2, 'the': 2, 'of': 2, 'gasby': 1}"
      ],
      "execution_count": null,
      "outputs": [
        {
          "output_type": "stream",
          "text": [
            "{'great': 2, 'expectations': 1, 'the': 2, 'adventures': 2, 'of': 2, 'sherlock': 1, 'holmes': 1, 'gasby': 1, 'hamlet': 1, 'huckleberry': 1, 'fin': 1}\n"
          ],
          "name": "stdout"
        }
      ]
    },
    {
      "cell_type": "markdown",
      "metadata": {
        "id": "yjOfpo79ZPsi",
        "colab_type": "text"
      },
      "source": [
        "# Numpy"
      ]
    },
    {
      "cell_type": "markdown",
      "metadata": {
        "id": "CNDmCPopZPsk",
        "colab_type": "text"
      },
      "source": [
        "\n",
        "\n",
        "- NumPy provides Python with an extensive math library capable of performing numerical computations effectively and efficiently.\n",
        "    - Even though Python lists are great on their own, NumPy has a number of key features that give it great advantages over Python lists. One such feature is speed. When performing operations on large arrays NumPy can often perform several orders of magnitude faster than Python lists. This speed comes from the nature of NumPy arrays being memory-efficient and from optimized algorithms used by NumPy for doing arithmetic, statistical, and linear algebra operations.\n",
        "    - Another great feature of NumPy is that it has multidimensional array data structures that can represent vectors and matrices. Another great advantage of NumPy over Python lists is that NumPy has a large number of optimized built-in mathematical functions. These functions allow you to do a variety of complex mathematical computations very fast and with very little code (avoiding the use of complicated loops) making your programs more readable and easier to understand.\n",
        "- At the core of NumPy is the **ndarray**, where nd stands for n-dimensional.\n",
        "    - An ndarray is a multidimensional array of elements **all of the same type**.\n",
        "    - Unlike Python lists, all the elements of an ndarray must be of the same type. If you provide the np.array() function with a Python list that has both integers and strings, NumPy will interpret all elements as strings.\n",
        "    - When we create an ndarray with both floats and integers, NumPy assigns its elements a float64 dtype. This is called **upcasting**. Since all the elements of an ndarray must be of the same type, in this case NumPy upcasts the integers in z to floats in order to avoid losing precision in numerical computations.\n",
        "- We refer to 1D arrays as rank 1 arrays. In general N-Dimensional arrays have rank N. Therefore, we refer to a 2D array as a rank 2 array."
      ]
    },
    {
      "cell_type": "code",
      "metadata": {
        "_kg_hide-output": true,
        "id": "1Sx7pw26ZPsk",
        "colab_type": "code",
        "colab": {}
      },
      "source": [
        "import numpy as np"
      ],
      "execution_count": null,
      "outputs": []
    },
    {
      "cell_type": "markdown",
      "metadata": {
        "id": "udf6TYhpZPsn",
        "colab_type": "text"
      },
      "source": [
        "## Create ndarray"
      ]
    },
    {
      "cell_type": "code",
      "metadata": {
        "_kg_hide-output": false,
        "id": "EzPZ-DXDZPsn",
        "colab_type": "code",
        "colab": {},
        "outputId": "f212cfb3-92f4-40b8-bbba-1d08709209dd"
      },
      "source": [
        "# Create a 1D ndarray that contains only integers\n",
        "x = np.array([1, 2, 3, 4, 5])\n",
        "print('x = ', x) # x = [1 2 3 4 5]\n",
        "print('x has dimensions:', x.shape) # x has dimensions: (5,)\n",
        "print('The elements in x are of type:', x.dtype) # The elements in x are of type: int64\n",
        "\n",
        "# Create a rank 2 ndarray that only contains integers\n",
        "Y = np.array([[1,2,3],[4,5,6],[7,8,9], [10,11,12]])\n",
        "print('Y has dimensions:', Y.shape) # Y has dimensions: (4, 3)\n",
        "print('Y has a total of', Y.size, 'elements') # Y has a total of 12 elements\n",
        "print('Y is an object of type:', type(Y)) # Y is an object of type: class 'numpy.ndarray'\n",
        "print('The elements in Y are of type:', Y.dtype) # The elements in Y are of type: int64"
      ],
      "execution_count": null,
      "outputs": [
        {
          "output_type": "stream",
          "text": [
            "x =  [1 2 3 4 5]\n",
            "x has dimensions: (5,)\n",
            "The elements in x are of type: int64\n",
            "Y has dimensions: (4, 3)\n",
            "Y has a total of 12 elements\n",
            "Y is an object of type: <class 'numpy.ndarray'>\n",
            "The elements in Y are of type: int64\n"
          ],
          "name": "stdout"
        }
      ]
    },
    {
      "cell_type": "markdown",
      "metadata": {
        "id": "5nlDMSTrZPso",
        "colab_type": "text"
      },
      "source": [
        "## Create ndarray with dtype"
      ]
    },
    {
      "cell_type": "code",
      "metadata": {
        "_kg_hide-output": false,
        "id": "1wO3ShPYZPsp",
        "colab_type": "code",
        "colab": {}
      },
      "source": [
        "# Specify the dtype when creating the ndarray\n",
        "x = np.array([1.5, 2.2, 3.7, 4.0, 5.9], dtype = np.int64)"
      ],
      "execution_count": null,
      "outputs": []
    },
    {
      "cell_type": "markdown",
      "metadata": {
        "id": "BXtYYwfVZPss",
        "colab_type": "text"
      },
      "source": [
        "## Save and load"
      ]
    },
    {
      "cell_type": "code",
      "metadata": {
        "_kg_hide-output": false,
        "id": "_fdtCatuZPst",
        "colab_type": "code",
        "colab": {}
      },
      "source": [
        "# Save the array into a file\n",
        "np.save('my_array', x)\n",
        "\n",
        "# Load the saved array from current directory\n",
        "y = np.load('my_array.npy')"
      ],
      "execution_count": null,
      "outputs": []
    },
    {
      "cell_type": "markdown",
      "metadata": {
        "id": "39K6bGrGZPsw",
        "colab_type": "text"
      },
      "source": [
        "## Zeros"
      ]
    },
    {
      "cell_type": "code",
      "metadata": {
        "_kg_hide-output": false,
        "id": "7-Ho5wPrZPsw",
        "colab_type": "code",
        "colab": {}
      },
      "source": [
        "# Create ndarray using built-in functions\n",
        "# 3 x 4 ndarray full of zeros\n",
        "# np.zeros(shape)\n",
        "X = np.zeros((3,4))"
      ],
      "execution_count": null,
      "outputs": []
    },
    {
      "cell_type": "markdown",
      "metadata": {
        "id": "jr0d60I5ZPsy",
        "colab_type": "text"
      },
      "source": [
        "## Ones"
      ]
    },
    {
      "cell_type": "code",
      "metadata": {
        "_kg_hide-output": false,
        "id": "dq8PUKzxZPs0",
        "colab_type": "code",
        "colab": {}
      },
      "source": [
        "# a 3 x 2 ndarray full of ones\n",
        "# np.ones(shape)\n",
        "X = np.ones((3,2))"
      ],
      "execution_count": null,
      "outputs": []
    },
    {
      "cell_type": "markdown",
      "metadata": {
        "id": "0ljNdyo8ZPs2",
        "colab_type": "text"
      },
      "source": [
        "## Full"
      ]
    },
    {
      "cell_type": "code",
      "metadata": {
        "_kg_hide-output": false,
        "id": "ZGtaiOkIZPs2",
        "colab_type": "code",
        "colab": {}
      },
      "source": [
        "# 2 x 3 ndarray full of fives\n",
        "# np.full(shape, constant value)\n",
        "X = np.full((2,3), 5)"
      ],
      "execution_count": null,
      "outputs": []
    },
    {
      "cell_type": "markdown",
      "metadata": {
        "id": "XjcDTtIhZPs5",
        "colab_type": "text"
      },
      "source": [
        "## Identity Matrix"
      ]
    },
    {
      "cell_type": "code",
      "metadata": {
        "_kg_hide-output": false,
        "id": "u7iKtY80ZPs6",
        "colab_type": "code",
        "colab": {}
      },
      "source": [
        "# Identity Matrix\n",
        "# Since all Identity Matrices are square, the np.eye() function only takes a single integer as an argument\n",
        "# 5 x 5 Identity matrix\n",
        "X = np.eye(5)"
      ],
      "execution_count": null,
      "outputs": []
    },
    {
      "cell_type": "markdown",
      "metadata": {
        "id": "IzmVp4TpZPs9",
        "colab_type": "text"
      },
      "source": [
        "## Diagonal Matrix"
      ]
    },
    {
      "cell_type": "code",
      "metadata": {
        "_kg_hide-output": false,
        "id": "gIlercY0ZPs-",
        "colab_type": "code",
        "colab": {}
      },
      "source": [
        "# Diagonal Matrix\n",
        "# 4 x 4 diagonal matrix that contains the numbers 10,20,30, and 50 on its main diagonal\n",
        "X = np.diag([10,20,30,50])"
      ],
      "execution_count": null,
      "outputs": []
    },
    {
      "cell_type": "markdown",
      "metadata": {
        "id": "TsLN1tqCZPs_",
        "colab_type": "text"
      },
      "source": [
        "## Arange"
      ]
    },
    {
      "cell_type": "code",
      "metadata": {
        "_kg_hide-output": false,
        "id": "B_ZoJf3rZPs_",
        "colab_type": "code",
        "colab": {}
      },
      "source": [
        "# Arange\n",
        "# rank 1 ndarray that has sequential integers from 0 to 9\n",
        "# x = [0 1 2 3 4 5 6 7 8 9]\n",
        "x = np.arange(10)\n",
        "\n",
        "# rank 1 ndarray that has sequential integers from 4 to 9\n",
        "# [start, stop)\n",
        "# x = [4 5 6 7 8 9]\n",
        "x = np.arange(4,10)\n",
        "\n",
        "# rank 1 ndarray that has evenly spaced integers from 1 to 13 in steps of 3.\n",
        "# np.arange(start,stop,step)\n",
        "# x = [ 1 4 7 10 13]\n",
        "x = np.arange(1,14,3)"
      ],
      "execution_count": null,
      "outputs": []
    },
    {
      "cell_type": "markdown",
      "metadata": {
        "id": "1CMUK4joZPtC",
        "colab_type": "text"
      },
      "source": [
        "## Linspace"
      ]
    },
    {
      "cell_type": "code",
      "metadata": {
        "_kg_hide-output": false,
        "id": "OY7Sp1tMZPtC",
        "colab_type": "code",
        "colab": {}
      },
      "source": [
        "# Linspace\n",
        "# Even though the np.arange() function allows for non-integer steps,\n",
        "# such as 0.3, the output is usually inconsistent, due to the finite\n",
        "# floating point precision. For this reason, in the cases where\n",
        "# non-integer steps are required, it is usually better to use linspace()\n",
        "# becayse np.linspace() uses the number of elements we want in a\n",
        "# particular interval, instead of the step between values.\n",
        "# linspace returns N evenly spaced numbers over the closed interval [start, stop]\n",
        "# np.linspace(start, stop, N)\n",
        "# x = [ 0. 2.77777778 5.55555556 8.33333333 11.11111111 13.88888889 16.66666667 19.44444444 22.22222222 25. ]\n",
        "x = np.linspace(0,25,10)"
      ],
      "execution_count": null,
      "outputs": []
    },
    {
      "cell_type": "markdown",
      "metadata": {
        "id": "Af3zgP2xZPtD",
        "colab_type": "text"
      },
      "source": [
        "## Reshape"
      ]
    },
    {
      "cell_type": "code",
      "metadata": {
        "_kg_hide-output": false,
        "id": "63pJ8MxaZPtD",
        "colab_type": "code",
        "colab": {}
      },
      "source": [
        "# Reshape\n",
        "# np.reshape(ndarray, new_shape)\n",
        "# converts the given ndarray into the specified new_shape\n",
        "x = np.arange(20)\n",
        "x = np.reshape(x, (4,5))\n",
        "# or\n",
        "x = np.arange(20).reshape(4, 5) # does the same thing as above\n",
        "# and the same thing with with linshape\n",
        "y = np.linspace(0,50,10, endpoint=False).reshape(5,2)\n",
        "# One great feature about NumPy, is that some functions can also be\n",
        "# applied as methods. This allows us to apply different functions in\n",
        "# sequence in just one line of code"
      ],
      "execution_count": null,
      "outputs": []
    },
    {
      "cell_type": "markdown",
      "metadata": {
        "id": "w-ffAlpQZPtF",
        "colab_type": "text"
      },
      "source": [
        "## Slicing"
      ]
    },
    {
      "cell_type": "code",
      "metadata": {
        "_kg_hide-output": false,
        "id": "f41YkyXKZPtG",
        "colab_type": "code",
        "colab": {},
        "outputId": "e70773ff-acfc-47e0-eafa-909516ed300b"
      },
      "source": [
        "# Slicing\n",
        "# ndarray[start:end]\n",
        "# ndarray[start:]\n",
        "# ndarray[:end]\n",
        "# ndarray[<start>:<stop>:<step>]\n",
        "\n",
        "# In methods one and three, the end index is excluded [,)\n",
        "X = np.arange(20).reshape(4, 5)\n",
        "\n",
        "# select all the elements that are in the 2nd through 4th rows and in the 3rd to 5th columns\n",
        "Z = X[1:4,2:5]\n",
        "# or\n",
        "Z = X[1:,2:5]\n",
        "\n",
        "# elements = a_list[<start>:<stop>:<step>]\n",
        "# select all the elements in the 3rd row\n",
        "v = X[2,:] # v = [10 11 12 13 14]\n",
        "# select all the elements in the 3rd column\n",
        "q = X[:,2] # q = [ 2 7 12 17]\n",
        "# select all the elements in the 3rd column but return a rank 2 ndarray\n",
        "R = X[:,2:3]\n",
        "'''\n",
        "[[ 2]\n",
        " [ 7]\n",
        " [12]\n",
        " [17]]\n",
        "'''\n",
        "# Note: Slicing creates a view, not a copy\n",
        "# when we make assignments, such as: Z = X[1:4,2:5]\n",
        "# the slice of the original array X is not copied in the variable Z.\n",
        "# Rather, X and Z are now just two different names for the same ndarray.\n",
        "# We say that slicing only creates a view of the original array.\n",
        "# This means if we make changes to Z, X changes as well."
      ],
      "execution_count": null,
      "outputs": [
        {
          "output_type": "execute_result",
          "data": {
            "text/plain": [
              "'\\n[[ 2]\\n [ 7]\\n [12]\\n [17]]\\n'"
            ]
          },
          "metadata": {
            "tags": []
          },
          "execution_count": 53
        }
      ]
    },
    {
      "cell_type": "markdown",
      "metadata": {
        "id": "ThKxARQ4ZPtH",
        "colab_type": "text"
      },
      "source": [
        "## Random"
      ]
    },
    {
      "cell_type": "code",
      "metadata": {
        "_kg_hide-output": false,
        "id": "PcPFxJLHZPtH",
        "colab_type": "code",
        "colab": {}
      },
      "source": [
        "# Random\n",
        "# 3 x 3 ndarray with random floats in the half-open interval [0.0, 1.0).\n",
        "# np.random.random(shape)\n",
        "X = np.random.random((3,3))\n",
        "# np.random.randint(start, stop, size = shape)\n",
        "# [start, stop)\n",
        "X = np.random.randint(4,15,size=(3,2))\n",
        "\n",
        "# create ndarrays with random numbers that satisfy certain statistical properties\n",
        "# 1000 x 1000 ndarray of random floats drawn from normal (Gaussian)\n",
        "# distribution with a mean of zero and a standard deviation of 0.1.\n",
        "# np.random.normal(mean, standard deviation, size=shape)\n",
        "X = np.random.normal(0, 0.1, size=(1000,1000))"
      ],
      "execution_count": null,
      "outputs": []
    },
    {
      "cell_type": "markdown",
      "metadata": {
        "id": "oDRyNOW0ZPtI",
        "colab_type": "text"
      },
      "source": [
        "## Mutability"
      ]
    },
    {
      "cell_type": "code",
      "metadata": {
        "_kg_hide-output": false,
        "id": "jVnTy2OGZPtJ",
        "colab_type": "code",
        "colab": {}
      },
      "source": [
        "# Mutability\n",
        "# Change ndarray\n",
        "x[3] = 20\n",
        "X[0,0] = 20"
      ],
      "execution_count": null,
      "outputs": []
    },
    {
      "cell_type": "markdown",
      "metadata": {
        "id": "YDedqffdZPtK",
        "colab_type": "text"
      },
      "source": [
        "## Delete"
      ]
    },
    {
      "cell_type": "code",
      "metadata": {
        "_kg_hide-output": false,
        "id": "J7t2jVPlZPtK",
        "colab_type": "code",
        "colab": {}
      },
      "source": [
        "# Delete\n",
        "# np.delete(ndarray, elements, axis)\n",
        "x = np.array([1, 2, 3, 4, 5])\n",
        "# delete the first and fifth element of x\n",
        "x = np.delete(x, [0,4])\n",
        "\n",
        "Y = np.array([[1,2,3],[4,5,6],[7,8,9]])\n",
        "# delete the first row of Y\n",
        "w = np.delete(Y, 0, axis=0)\n",
        "# delete the first and last column of Y\n",
        "v = np.delete(Y, [0,2], axis=1)"
      ],
      "execution_count": null,
      "outputs": []
    },
    {
      "cell_type": "markdown",
      "metadata": {
        "id": "XioIgSymZPtM",
        "colab_type": "text"
      },
      "source": [
        "## Append"
      ]
    },
    {
      "cell_type": "code",
      "metadata": {
        "_kg_hide-output": false,
        "id": "coJzctq7ZPtM",
        "colab_type": "code",
        "colab": {}
      },
      "source": [
        "# Append\n",
        "# np.append(ndarray, elements, axis)\n",
        "# append the integer 6 to x\n",
        "x = np.append(x, 6)\n",
        "# append the integer 7 and 8 to x\n",
        "x = np.append(x, [7,8])\n",
        "# append a new row containing 7,8,9 to y\n",
        "v = np.append(Y, [[10,11,12]], axis=0)\n",
        "# append a new column containing 9 and 10 to y\n",
        "q = np.append(Y,[[13],[14],[15]], axis=1)"
      ],
      "execution_count": null,
      "outputs": []
    },
    {
      "cell_type": "markdown",
      "metadata": {
        "id": "V4WO_LI-ZPtO",
        "colab_type": "text"
      },
      "source": [
        "## Insert"
      ]
    },
    {
      "cell_type": "code",
      "metadata": {
        "_kg_hide-output": false,
        "id": "N6ft5CBuZPtO",
        "colab_type": "code",
        "colab": {}
      },
      "source": [
        "# Insert\n",
        "# np.insert(ndarray, index, elements, axis)\n",
        "# inserts the given list of elements to ndarray right before\n",
        "# the given index along the specified axis\n",
        "x = np.array([1, 2, 5, 6, 7])\n",
        "Y = np.array([[1,2,3],[7,8,9]])\n",
        "# insert the integer 3 and 4 between 2 and 5 in x. \n",
        "x = np.insert(x,2,[3,4])\n",
        "# insert a row between the first and last row of Y\n",
        "w = np.insert(Y,1,[4,5,6],axis=0)\n",
        "# insert a column full of 5s between the first and second column of Y\n",
        "v = np.insert(Y,1,5, axis=1)"
      ],
      "execution_count": null,
      "outputs": []
    },
    {
      "cell_type": "markdown",
      "metadata": {
        "id": "igGX4mrjZPtP",
        "colab_type": "text"
      },
      "source": [
        "## Stacking"
      ]
    },
    {
      "cell_type": "code",
      "metadata": {
        "_kg_hide-output": false,
        "id": "9r562ZZNZPtP",
        "colab_type": "code",
        "colab": {}
      },
      "source": [
        "# Stacking\n",
        "# NumPy also allows us to stack ndarrays on top of each other,\n",
        "# or to stack them side by side. The stacking is done using either\n",
        "# the np.vstack() function for vertical stacking, or the np.hstack()\n",
        "# function for horizontal stacking. It is important to note that in\n",
        "# order to stack ndarrays, the shape of the ndarrays must match.\n",
        "x = np.array([1,2])\n",
        "Y = np.array([[3,4],[5,6]])\n",
        "z = np.vstack((x,Y)) # [[1,2], [3,4], [5,6]]\n",
        "w = np.hstack((Y,x.reshape(2,1))) # [[3,4,1], [5,6,2]]"
      ],
      "execution_count": null,
      "outputs": []
    },
    {
      "cell_type": "markdown",
      "metadata": {
        "id": "ph7ZIVbZZPtS",
        "colab_type": "text"
      },
      "source": [
        "## Copy"
      ]
    },
    {
      "cell_type": "code",
      "metadata": {
        "_kg_hide-output": false,
        "id": "3lVBf36GZPtS",
        "colab_type": "code",
        "colab": {}
      },
      "source": [
        "# Copy\n",
        "# if we want to create a new ndarray that contains a copy of the\n",
        "# values in the slice we need to use the np.copy()\n",
        "# create a copy of the slice using the np.copy() function\n",
        "Z = np.copy(X[1:4,2:5])\n",
        "#  create a copy of the slice using the copy as a method\n",
        "W = X[1:4,2:5].copy()"
      ],
      "execution_count": null,
      "outputs": []
    },
    {
      "cell_type": "markdown",
      "metadata": {
        "id": "m6GWZ0yoZPtU",
        "colab_type": "text"
      },
      "source": [
        "## Extract elements along the diagonal"
      ]
    },
    {
      "cell_type": "code",
      "metadata": {
        "_kg_hide-output": false,
        "id": "CjYUP2akZPtU",
        "colab_type": "code",
        "colab": {}
      },
      "source": [
        "# Extract elements along the diagonal\n",
        "d0 = np.diag(X)\n",
        "# As default is k=0, which refers to the main diagonal.\n",
        "# Values of k > 0 are used to select elements in diagonals above\n",
        "# the main diagonal, and values of k < 0 are used to select elements\n",
        "# in diagonals below the main diagonal.\n",
        "d1 = np.diag(X, k=1)\n",
        "d2 = np.diag(X, k=-1)"
      ],
      "execution_count": null,
      "outputs": []
    },
    {
      "cell_type": "markdown",
      "metadata": {
        "id": "-AwTWawlZPtV",
        "colab_type": "text"
      },
      "source": [
        "## Find Unique Elements"
      ]
    },
    {
      "cell_type": "code",
      "metadata": {
        "id": "C3GqcxDpZPtV",
        "colab_type": "code",
        "colab": {}
      },
      "source": [
        "# Find Unique Elements in ndarray\n",
        "u = np.unique(X)"
      ],
      "execution_count": null,
      "outputs": []
    },
    {
      "cell_type": "markdown",
      "metadata": {
        "id": "XKljuDGjZPtZ",
        "colab_type": "text"
      },
      "source": [
        "## Boolean Indexing"
      ]
    },
    {
      "cell_type": "code",
      "metadata": {
        "id": "6KA5qHG1ZPtZ",
        "colab_type": "code",
        "colab": {},
        "outputId": "4811983c-34a7-4143-9e1b-8026e0cc3ba5"
      },
      "source": [
        "# Boolean Indexing\n",
        "X = np.arange(25).reshape(5, 5)\n",
        "print('The elements in X that are greater than 10:', X[X > 10])\n",
        "print('The elements in X that less than or equal to 7:', X[X <= 7])\n",
        "print('The elements in X that are between 10 and 17:', X[(X > 10) & (X < 17)])\n",
        "\n",
        "# use Boolean indexing to assign the elements that\n",
        "# are between 10 and 17 the value of -1\n",
        "X[(X > 10) & (X < 17)] = -1"
      ],
      "execution_count": null,
      "outputs": [
        {
          "output_type": "stream",
          "text": [
            "The elements in X that are greater than 10: [11 12 13 14 15 16 17 18 19 20 21 22 23 24]\n",
            "The elements in X that less than or equal to 7: [0 1 2 3 4 5 6 7]\n",
            "The elements in X that are between 10 and 17: [11 12 13 14 15 16]\n"
          ],
          "name": "stdout"
        }
      ]
    },
    {
      "cell_type": "markdown",
      "metadata": {
        "id": "wXCQbzI_ZPtb",
        "colab_type": "text"
      },
      "source": [
        "## Set Operations"
      ]
    },
    {
      "cell_type": "code",
      "metadata": {
        "id": "D_t7uXZiZPtb",
        "colab_type": "code",
        "colab": {},
        "outputId": "e16ea170-c776-4ca3-e4c0-cb7171684680"
      },
      "source": [
        "# Set Operations\n",
        "x = np.array([1,2,3,4,5])\n",
        "y = np.array([6,7,2,8,4])\n",
        "print('The elements that are both in x and y:', np.intersect1d(x,y))\n",
        "print('The elements that are in x that are not in y:', np.setdiff1d(x,y))\n",
        "print('All the elements of x and y:',np.union1d(x,y))"
      ],
      "execution_count": null,
      "outputs": [
        {
          "output_type": "stream",
          "text": [
            "The elements that are both in x and y: [2 4]\n",
            "The elements that are in x that are not in y: [1 3 5]\n",
            "All the elements of x and y: [1 2 3 4 5 6 7 8]\n"
          ],
          "name": "stdout"
        }
      ]
    },
    {
      "cell_type": "markdown",
      "metadata": {
        "id": "iccwPPFWZPte",
        "colab_type": "text"
      },
      "source": [
        "## Sorting"
      ]
    },
    {
      "cell_type": "code",
      "metadata": {
        "id": "LaBf23BzZPte",
        "colab_type": "code",
        "colab": {}
      },
      "source": [
        "# Sorting\n",
        "# When used as a function, it doesn't change the original ndarray\n",
        "s = np.sort(x)\n",
        "# When used as a method, the original array will be sorted\n",
        "x.sort()\n",
        "\n",
        "# sort x but only keep the unique elements in x\n",
        "s = np.sort(np.unique(x))\n",
        "\n",
        "# sort the columns of X\n",
        "s = np.sort(X, axis = 0)\n",
        "\n",
        "# sort the rows of X\n",
        "s = np.sort(X, axis = 1)"
      ],
      "execution_count": null,
      "outputs": []
    },
    {
      "cell_type": "markdown",
      "metadata": {
        "id": "imMqyDIOZPtf",
        "colab_type": "text"
      },
      "source": [
        "## Math Functions"
      ]
    },
    {
      "cell_type": "code",
      "metadata": {
        "id": "mZVeHPjAZPtg",
        "colab_type": "code",
        "colab": {},
        "outputId": "c8e2351a-e9a5-4672-98c4-6b1e8ac88ded"
      },
      "source": [
        "# NumPy allows element-wise operations on ndarrays as well as\n",
        "# matrix operations. In order to do element-wise operations,\n",
        "# NumPy sometimes uses something called Broadcasting.\n",
        "# Broadcasting is the term used to describe how NumPy handles\n",
        "# element-wise arithmetic operations with ndarrays of different shapes.\n",
        "# For example, broadcasting is used implicitly when doing arithmetic\n",
        "# operations between scalars and ndarrays.\n",
        "x = np.array([1,2,3,4])\n",
        "y = np.array([5.5,6.5,7.5,8.5])\n",
        "np.add(x,y)\n",
        "np.subtract(x,y)\n",
        "np.multiply(x,y)\n",
        "np.divide(x,y)\n",
        "\n",
        "# in order to do these operations the shapes of the ndarrays\n",
        "# being operated on, must have the same shape or be broadcastable\n",
        "X = np.array([1,2,3,4]).reshape(2,2)\n",
        "Y = np.array([5.5,6.5,7.5,8.5]).reshape(2,2)\n",
        "np.add(X,Y)\n",
        "np.subtract(X,Y)\n",
        "np.multiply(X,Y)\n",
        "np.divide(X,Y)\n",
        "\n",
        "# apply mathematical functions to all elements of an ndarray at once\n",
        "np.exp(x)\n",
        "np.sqrt(x)\n",
        "np.power(x,2)"
      ],
      "execution_count": null,
      "outputs": [
        {
          "output_type": "execute_result",
          "data": {
            "text/plain": [
              "array([ 1,  4,  9, 16])"
            ]
          },
          "metadata": {
            "tags": []
          },
          "execution_count": 66
        }
      ]
    },
    {
      "cell_type": "markdown",
      "metadata": {
        "id": "y-_0oSd9ZPth",
        "colab_type": "text"
      },
      "source": [
        "## Statistical Functions"
      ]
    },
    {
      "cell_type": "code",
      "metadata": {
        "id": "kxcE7-31ZPth",
        "colab_type": "code",
        "colab": {},
        "outputId": "73bb2c62-5c57-4e81-b689-43d98af060ab"
      },
      "source": [
        "# Statistical Functions\n",
        "print('Average of all elements in X:', X.mean())\n",
        "print('Average of all elements in the columns of X:', X.mean(axis=0))\n",
        "print('Average of all elements in the rows of X:', X.mean(axis=1))\n",
        "print()\n",
        "print('Sum of all elements in X:', X.sum())\n",
        "print('Standard Deviation of all elements in X:', X.std())\n",
        "print('Median of all elements in X:', np.median(X))\n",
        "print('Maximum value of all elements in X:', X.max())\n",
        "print('Minimum value of all elements in X:', X.min())"
      ],
      "execution_count": null,
      "outputs": [
        {
          "output_type": "stream",
          "text": [
            "Average of all elements in X: 2.5\n",
            "Average of all elements in the columns of X: [2. 3.]\n",
            "Average of all elements in the rows of X: [1.5 3.5]\n",
            "\n",
            "Sum of all elements in X: 10\n",
            "Standard Deviation of all elements in X: 1.118033988749895\n",
            "Median of all elements in X: 2.5\n",
            "Maximum value of all elements in X: 4\n",
            "Minimum value of all elements in X: 1\n"
          ],
          "name": "stdout"
        }
      ]
    },
    {
      "cell_type": "markdown",
      "metadata": {
        "id": "CaJNropcZPtk",
        "colab_type": "text"
      },
      "source": [
        "## Broadcasting"
      ]
    },
    {
      "cell_type": "code",
      "metadata": {
        "id": "Ni74h9TkZPtk",
        "colab_type": "code",
        "colab": {},
        "outputId": "4f861917-47ab-4f26-c3b1-48e2ec5ca2e5"
      },
      "source": [
        "# Broadcasting\n",
        "# NumPy is working behind the scenes to broadcast 3 along the ndarray\n",
        "# so that they have the same shape. This allows us to add 3 to each\n",
        "# element of X with just one line of code.\n",
        "print(4*X)\n",
        "print(4+X)\n",
        "print(4-X)\n",
        "print(4/X)\n",
        "# NumPy is able to add 1 x 3 and 3 x 1 ndarrays to 3 x 3 ndarrays\n",
        "# by broadcasting the smaller ndarrays along the big ndarray so that\n",
        "# they have compatible shapes. In general, NumPy can do this provided\n",
        "# that the smaller ndarray can be expanded to the shape of the larger\n",
        "# ndarray in such a way that the resulting broadcast is unambiguous.\n",
        "x = np.array([1,2,3])\n",
        "Y = np.array([[1,2,3],[4,5,6],[7,8,9]])\n",
        "Z = np.array([1,2,3]).reshape(3,1)\n",
        "print(x + Y)\n",
        "print(Z + Y)"
      ],
      "execution_count": null,
      "outputs": [
        {
          "output_type": "stream",
          "text": [
            "[[ 4  8]\n",
            " [12 16]]\n",
            "[[5 6]\n",
            " [7 8]]\n",
            "[[3 2]\n",
            " [1 0]]\n",
            "[[4.         2.        ]\n",
            " [1.33333333 1.        ]]\n",
            "[[ 2  4  6]\n",
            " [ 5  7  9]\n",
            " [ 8 10 12]]\n",
            "[[ 2  3  4]\n",
            " [ 6  7  8]\n",
            " [10 11 12]]\n"
          ],
          "name": "stdout"
        }
      ]
    }
  ]
}